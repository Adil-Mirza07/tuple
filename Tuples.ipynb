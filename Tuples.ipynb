{
 "cells": [
  {
   "cell_type": "code",
   "execution_count": 1,
   "id": "d2987507-40a0-45a8-b68f-ccc12d60ed6e",
   "metadata": {},
   "outputs": [],
   "source": [
    "t = ()"
   ]
  },
  {
   "cell_type": "code",
   "execution_count": 2,
   "id": "c19ff05c-fc3a-42e7-85d0-5fde7fb36141",
   "metadata": {},
   "outputs": [
    {
     "data": {
      "text/plain": [
       "tuple"
      ]
     },
     "execution_count": 2,
     "metadata": {},
     "output_type": "execute_result"
    }
   ],
   "source": [
    "type(t)"
   ]
  },
  {
   "cell_type": "code",
   "execution_count": 3,
   "id": "d0f57439-f9ac-4aae-8b1f-72adb7eed6a4",
   "metadata": {},
   "outputs": [],
   "source": [
    "t1 = (1,2,3,4,45,45.45 , 45+7j , \"sudh\" , True)"
   ]
  },
  {
   "cell_type": "code",
   "execution_count": 4,
   "id": "cd60ec37-1427-4efd-89be-a02a79a915c6",
   "metadata": {},
   "outputs": [
    {
     "data": {
      "text/plain": [
       "tuple"
      ]
     },
     "execution_count": 4,
     "metadata": {},
     "output_type": "execute_result"
    }
   ],
   "source": [
    "type(t1)"
   ]
  },
  {
   "cell_type": "code",
   "execution_count": 5,
   "id": "76b0fe1e-8cdd-4ecc-b0a3-4b6587d63eaa",
   "metadata": {},
   "outputs": [],
   "source": [
    "l = [1,2,3,4]"
   ]
  },
  {
   "cell_type": "code",
   "execution_count": 7,
   "id": "09b0ec5d-b008-4e4f-8a6c-00970e5a6094",
   "metadata": {},
   "outputs": [
    {
     "data": {
      "text/plain": [
       "list"
      ]
     },
     "execution_count": 7,
     "metadata": {},
     "output_type": "execute_result"
    }
   ],
   "source": [
    "type(l)"
   ]
  },
  {
   "cell_type": "code",
   "execution_count": 8,
   "id": "7dc5dde8-63ff-4a76-8421-42f824fdf8a0",
   "metadata": {},
   "outputs": [
    {
     "data": {
      "text/plain": [
       "(1, 2, 3, 4, 45, 45.45, (45+7j), 'sudh', True)"
      ]
     },
     "execution_count": 8,
     "metadata": {},
     "output_type": "execute_result"
    }
   ],
   "source": [
    "t1"
   ]
  },
  {
   "cell_type": "code",
   "execution_count": 9,
   "id": "ad987e8f-127b-4eb5-b806-1b5726e797f2",
   "metadata": {},
   "outputs": [
    {
     "data": {
      "text/plain": [
       "1"
      ]
     },
     "execution_count": 9,
     "metadata": {},
     "output_type": "execute_result"
    }
   ],
   "source": [
    "t1[0]"
   ]
  },
  {
   "cell_type": "code",
   "execution_count": 10,
   "id": "1a86057e-4c1d-4b3b-b38c-45066a5eaeb1",
   "metadata": {},
   "outputs": [
    {
     "data": {
      "text/plain": [
       "'sudh'"
      ]
     },
     "execution_count": 10,
     "metadata": {},
     "output_type": "execute_result"
    }
   ],
   "source": [
    "t1[7]"
   ]
  },
  {
   "cell_type": "code",
   "execution_count": 11,
   "id": "81062936-05d5-43f8-8f76-9dd3872995ec",
   "metadata": {},
   "outputs": [
    {
     "data": {
      "text/plain": [
       "(True, 'sudh', (45+7j), 45.45, 45, 4, 3, 2, 1)"
      ]
     },
     "execution_count": 11,
     "metadata": {},
     "output_type": "execute_result"
    }
   ],
   "source": [
    "t1[::-1]"
   ]
  },
  {
   "cell_type": "code",
   "execution_count": 12,
   "id": "6918b62b-4005-4091-bf63-ea2d0d425c08",
   "metadata": {},
   "outputs": [],
   "source": [
    "t1 = t1[::-1]"
   ]
  },
  {
   "cell_type": "code",
   "execution_count": 13,
   "id": "58792d02-8728-4498-a442-7de5cd8ad551",
   "metadata": {},
   "outputs": [
    {
     "data": {
      "text/plain": [
       "(True, 'sudh', (45+7j), 45.45, 45, 4, 3, 2, 1)"
      ]
     },
     "execution_count": 13,
     "metadata": {},
     "output_type": "execute_result"
    }
   ],
   "source": [
    "t1"
   ]
  },
  {
   "cell_type": "code",
   "execution_count": 14,
   "id": "cb3fe5d0-1abe-45ae-8ec5-ad0d502bd7b7",
   "metadata": {},
   "outputs": [
    {
     "data": {
      "text/plain": [
       "(True, 'sudh', (45+7j))"
      ]
     },
     "execution_count": 14,
     "metadata": {},
     "output_type": "execute_result"
    }
   ],
   "source": [
    "t1[0:3]"
   ]
  },
  {
   "cell_type": "code",
   "execution_count": 15,
   "id": "ac814857-078f-476d-af0e-8dfade53e794",
   "metadata": {},
   "outputs": [
    {
     "data": {
      "text/plain": [
       "(True, 'sudh', (45+7j), 45.45, 45, 4, 3, 2, 1)"
      ]
     },
     "execution_count": 15,
     "metadata": {},
     "output_type": "execute_result"
    }
   ],
   "source": [
    "t1"
   ]
  },
  {
   "cell_type": "code",
   "execution_count": 16,
   "id": "6a4241bd-14eb-49d8-ac5f-e9fa6e53a1e7",
   "metadata": {},
   "outputs": [
    {
     "data": {
      "text/plain": [
       "1"
      ]
     },
     "execution_count": 16,
     "metadata": {},
     "output_type": "execute_result"
    }
   ],
   "source": [
    "t1.count(4)"
   ]
  },
  {
   "cell_type": "code",
   "execution_count": 17,
   "id": "18507c30-7564-419a-9af6-0ecc4197e03e",
   "metadata": {},
   "outputs": [
    {
     "data": {
      "text/plain": [
       "0"
      ]
     },
     "execution_count": 17,
     "metadata": {},
     "output_type": "execute_result"
    }
   ],
   "source": [
    "t1.count(\"abc\")"
   ]
  },
  {
   "cell_type": "code",
   "execution_count": 18,
   "id": "ce7d79af-af59-410c-8fc3-8f9199475d68",
   "metadata": {},
   "outputs": [
    {
     "data": {
      "text/plain": [
       "0"
      ]
     },
     "execution_count": 18,
     "metadata": {},
     "output_type": "execute_result"
    }
   ],
   "source": [
    "t1.index(1)"
   ]
  },
  {
   "cell_type": "code",
   "execution_count": 19,
   "id": "fa657f2b-f03b-49a1-bb66-aee2d5e542fc",
   "metadata": {},
   "outputs": [
    {
     "data": {
      "text/plain": [
       "1"
      ]
     },
     "execution_count": 19,
     "metadata": {},
     "output_type": "execute_result"
    }
   ],
   "source": [
    "t1.index(\"sudh\")"
   ]
  },
  {
   "cell_type": "code",
   "execution_count": 20,
   "id": "2fb729a8-1282-4a08-8292-42524cbc0113",
   "metadata": {},
   "outputs": [
    {
     "data": {
      "text/plain": [
       "(True, 'sudh', (45+7j), 45.45, 45, 4, 3, 2, 1)"
      ]
     },
     "execution_count": 20,
     "metadata": {},
     "output_type": "execute_result"
    }
   ],
   "source": [
    "t1"
   ]
  },
  {
   "cell_type": "code",
   "execution_count": 21,
   "id": "ba071e77-33cb-4380-a6ba-7d2fb743df18",
   "metadata": {},
   "outputs": [
    {
     "data": {
      "text/plain": [
       "2"
      ]
     },
     "execution_count": 21,
     "metadata": {},
     "output_type": "execute_result"
    }
   ],
   "source": [
    "t1.count(True)"
   ]
  },
  {
   "cell_type": "code",
   "execution_count": 22,
   "id": "cd70b9a2-b512-435b-9816-3be1565d6a6b",
   "metadata": {},
   "outputs": [
    {
     "data": {
      "text/plain": [
       "2"
      ]
     },
     "execution_count": 22,
     "metadata": {},
     "output_type": "execute_result"
    }
   ],
   "source": [
    "t1.count(1)"
   ]
  },
  {
   "cell_type": "code",
   "execution_count": 23,
   "id": "af3ded76-ee40-4292-b012-24fb25c4541d",
   "metadata": {},
   "outputs": [
    {
     "data": {
      "text/plain": [
       "(True, 'sudh', (45+7j), 45.45, 45, 4, 3, 2, 1)"
      ]
     },
     "execution_count": 23,
     "metadata": {},
     "output_type": "execute_result"
    }
   ],
   "source": [
    "t1"
   ]
  },
  {
   "cell_type": "code",
   "execution_count": 25,
   "id": "356e3e09-dc11-4309-a80e-0a55ad355046",
   "metadata": {},
   "outputs": [
    {
     "data": {
      "text/plain": [
       "[1, 2, 3, 4]"
      ]
     },
     "execution_count": 25,
     "metadata": {},
     "output_type": "execute_result"
    }
   ],
   "source": [
    "l"
   ]
  },
  {
   "cell_type": "code",
   "execution_count": 26,
   "id": "251ea7f5-6803-4e28-9d94-a5e5a501446e",
   "metadata": {},
   "outputs": [
    {
     "data": {
      "text/plain": [
       "True"
      ]
     },
     "execution_count": 26,
     "metadata": {},
     "output_type": "execute_result"
    }
   ],
   "source": [
    "t1[0]"
   ]
  },
  {
   "cell_type": "markdown",
   "id": "d14f33c7-5037-45bf-9c8e-42c057898f5a",
   "metadata": {},
   "source": [
    "\"\"\"Tuple are basically follows immutability concepts where it is not going to allow to change any element at a particular index\"\"\""
   ]
  },
  {
   "cell_type": "code",
   "execution_count": 34,
   "id": "9e62e36a-d616-4419-b518-af3ca91e02b8",
   "metadata": {},
   "outputs": [
    {
     "ename": "TypeError",
     "evalue": "'tuple' object does not support item assignment",
     "output_type": "error",
     "traceback": [
      "\u001b[0;31m---------------------------------------------------------------------------\u001b[0m",
      "\u001b[0;31mTypeError\u001b[0m                                 Traceback (most recent call last)",
      "Cell \u001b[0;32mIn[34], line 1\u001b[0m\n\u001b[0;32m----> 1\u001b[0m \u001b[43mt1\u001b[49m\u001b[43m[\u001b[49m\u001b[38;5;241;43m0\u001b[39;49m\u001b[43m]\u001b[49m \u001b[38;5;241m=\u001b[39m \u001b[38;5;241m345\u001b[39m        \u001b[38;5;66;03m## touple is immutability entity at any point of time\u001b[39;00m\n",
      "\u001b[0;31mTypeError\u001b[0m: 'tuple' object does not support item assignment"
     ]
    }
   ],
   "source": [
    "t1[0] = 345        ## touple is immutability entity at any point of time"
   ]
  },
  {
   "cell_type": "code",
   "execution_count": 28,
   "id": "8a415f0c-1c0b-44ad-8cc6-8458d16b320a",
   "metadata": {},
   "outputs": [
    {
     "data": {
      "text/plain": [
       "[1, 2, 3, 4]"
      ]
     },
     "execution_count": 28,
     "metadata": {},
     "output_type": "execute_result"
    }
   ],
   "source": [
    "l"
   ]
  },
  {
   "cell_type": "code",
   "execution_count": 30,
   "id": "301a5560-92db-4659-a548-d2620ffb7ae1",
   "metadata": {},
   "outputs": [
    {
     "data": {
      "text/plain": [
       "1"
      ]
     },
     "execution_count": 30,
     "metadata": {},
     "output_type": "execute_result"
    }
   ],
   "source": [
    "l[0]"
   ]
  },
  {
   "cell_type": "code",
   "execution_count": 31,
   "id": "7da86c0d-7b14-4f11-b545-e1e809c959f9",
   "metadata": {},
   "outputs": [],
   "source": [
    "l[0] = 100"
   ]
  },
  {
   "cell_type": "code",
   "execution_count": 32,
   "id": "cfcb27ef-5a43-4191-a439-7c96a02129a9",
   "metadata": {},
   "outputs": [
    {
     "data": {
      "text/plain": [
       "[100, 2, 3, 4]"
      ]
     },
     "execution_count": 32,
     "metadata": {},
     "output_type": "execute_result"
    }
   ],
   "source": [
    "l"
   ]
  },
  {
   "cell_type": "code",
   "execution_count": 35,
   "id": "e98bf77e-b861-4201-ba3a-e3328fe62911",
   "metadata": {},
   "outputs": [
    {
     "data": {
      "text/plain": [
       "(True, 'sudh', (45+7j), 45.45, 45, 4, 3, 2, 1)"
      ]
     },
     "execution_count": 35,
     "metadata": {},
     "output_type": "execute_result"
    }
   ],
   "source": [
    "t1"
   ]
  },
  {
   "cell_type": "code",
   "execution_count": 36,
   "id": "cef0b566-9aaf-4652-ac8f-e6fb8834d896",
   "metadata": {},
   "outputs": [
    {
     "name": "stdout",
     "output_type": "stream",
     "text": [
      "True\n",
      "sudh\n",
      "(45+7j)\n",
      "45.45\n",
      "45\n",
      "4\n",
      "3\n",
      "2\n",
      "1\n"
     ]
    }
   ],
   "source": [
    "for i in t1 :\n",
    "    print(i)"
   ]
  },
  {
   "cell_type": "code",
   "execution_count": 37,
   "id": "fe22c048-e343-4947-b8a6-df3257aaaaf3",
   "metadata": {},
   "outputs": [
    {
     "name": "stdout",
     "output_type": "stream",
     "text": [
      "True <class 'bool'>\n",
      "sudh <class 'str'>\n",
      "(45+7j) <class 'complex'>\n",
      "45.45 <class 'float'>\n",
      "45 <class 'int'>\n",
      "4 <class 'int'>\n",
      "3 <class 'int'>\n",
      "2 <class 'int'>\n",
      "1 <class 'int'>\n"
     ]
    }
   ],
   "source": [
    "for i in t1 :\n",
    "    print(i , type(i))"
   ]
  },
  {
   "cell_type": "code",
   "execution_count": 38,
   "id": "602d854c-5114-4ea5-9d64-ab4bcbd1b130",
   "metadata": {},
   "outputs": [],
   "source": [
    "t2 = (1,2,3,4)"
   ]
  },
  {
   "cell_type": "code",
   "execution_count": 41,
   "id": "b0bca45b-497e-4dc3-8dc0-97695a2092c1",
   "metadata": {},
   "outputs": [
    {
     "data": {
      "text/plain": [
       "(1, 2, 3, 4)"
      ]
     },
     "execution_count": 41,
     "metadata": {},
     "output_type": "execute_result"
    }
   ],
   "source": [
    "t2"
   ]
  },
  {
   "cell_type": "code",
   "execution_count": 42,
   "id": "936c0d0c-f551-4174-8fe2-b1092c9918c1",
   "metadata": {},
   "outputs": [
    {
     "data": {
      "text/plain": [
       "(1, 2, 3, 4, 1, 2, 3, 4, 1, 2, 3, 4)"
      ]
     },
     "execution_count": 42,
     "metadata": {},
     "output_type": "execute_result"
    }
   ],
   "source": [
    "t2 * 3"
   ]
  },
  {
   "cell_type": "code",
   "execution_count": 43,
   "id": "e706b1f0-7455-4b76-ae80-ef416c194ad3",
   "metadata": {},
   "outputs": [
    {
     "data": {
      "text/plain": [
       "4"
      ]
     },
     "execution_count": 43,
     "metadata": {},
     "output_type": "execute_result"
    }
   ],
   "source": [
    "max(t2)"
   ]
  },
  {
   "cell_type": "code",
   "execution_count": 45,
   "id": "aff8f111-a152-4195-8567-6005847f2294",
   "metadata": {},
   "outputs": [
    {
     "data": {
      "text/plain": [
       "1"
      ]
     },
     "execution_count": 45,
     "metadata": {},
     "output_type": "execute_result"
    }
   ],
   "source": [
    "min(t2)"
   ]
  },
  {
   "cell_type": "code",
   "execution_count": 46,
   "id": "22fb33d3-c183-4dfd-88e9-fece224dd8ed",
   "metadata": {},
   "outputs": [],
   "source": [
    "t1 = (1,2,32,4)\n",
    "t2 = (4,5,6,7,8)"
   ]
  },
  {
   "cell_type": "code",
   "execution_count": 47,
   "id": "f02efc05-d6fb-424d-bd3a-06edaea4789d",
   "metadata": {},
   "outputs": [],
   "source": [
    "t3 = (t1,t2)"
   ]
  },
  {
   "cell_type": "code",
   "execution_count": 48,
   "id": "9b22a18d-4b61-4e69-a90f-2ca6c9027d26",
   "metadata": {},
   "outputs": [
    {
     "data": {
      "text/plain": [
       "((1, 2, 32, 4), (4, 5, 6, 7, 8))"
      ]
     },
     "execution_count": 48,
     "metadata": {},
     "output_type": "execute_result"
    }
   ],
   "source": [
    "t3"
   ]
  },
  {
   "cell_type": "code",
   "execution_count": 49,
   "id": "86e4e80c-a661-40c7-9f3b-7ef4114345d9",
   "metadata": {},
   "outputs": [],
   "source": [
    "t4 = ((1,2,3,4,5) , [1,3,5,6,7,8])"
   ]
  },
  {
   "cell_type": "code",
   "execution_count": 50,
   "id": "cd68d218-e836-4ffb-98ad-432be4004421",
   "metadata": {},
   "outputs": [
    {
     "data": {
      "text/plain": [
       "((1, 2, 3, 4, 5), [1, 3, 5, 6, 7, 8])"
      ]
     },
     "execution_count": 50,
     "metadata": {},
     "output_type": "execute_result"
    }
   ],
   "source": [
    "t4"
   ]
  },
  {
   "cell_type": "code",
   "execution_count": 51,
   "id": "0d9ad0ce-ae22-436f-ad46-5919e59dd326",
   "metadata": {},
   "outputs": [],
   "source": [
    "del t4"
   ]
  },
  {
   "cell_type": "code",
   "execution_count": 52,
   "id": "cfe19849-e208-415c-9f1c-d06bac828ad5",
   "metadata": {},
   "outputs": [
    {
     "ename": "NameError",
     "evalue": "name 't4' is not defined",
     "output_type": "error",
     "traceback": [
      "\u001b[0;31m---------------------------------------------------------------------------\u001b[0m",
      "\u001b[0;31mNameError\u001b[0m                                 Traceback (most recent call last)",
      "Cell \u001b[0;32mIn[52], line 1\u001b[0m\n\u001b[0;32m----> 1\u001b[0m \u001b[43mt4\u001b[49m\n",
      "\u001b[0;31mNameError\u001b[0m: name 't4' is not defined"
     ]
    }
   ],
   "source": [
    "t4"
   ]
  },
  {
   "cell_type": "code",
   "execution_count": 53,
   "id": "44e106b4-b54a-4d4a-a51c-e071e06a9b30",
   "metadata": {},
   "outputs": [
    {
     "data": {
      "text/plain": [
       "(1, 2, 32, 4)"
      ]
     },
     "execution_count": 53,
     "metadata": {},
     "output_type": "execute_result"
    }
   ],
   "source": [
    "t1"
   ]
  },
  {
   "cell_type": "code",
   "execution_count": 54,
   "id": "d0654462-a4ab-47de-9f55-447f714a908c",
   "metadata": {},
   "outputs": [
    {
     "data": {
      "text/plain": [
       "4"
      ]
     },
     "execution_count": 54,
     "metadata": {},
     "output_type": "execute_result"
    }
   ],
   "source": [
    "len(t1)"
   ]
  },
  {
   "cell_type": "code",
   "execution_count": 55,
   "id": "7abf9407-b13a-4fbb-9c82-84878de1620e",
   "metadata": {},
   "outputs": [
    {
     "data": {
      "text/plain": [
       "(1, 2, 32, 4)"
      ]
     },
     "execution_count": 55,
     "metadata": {},
     "output_type": "execute_result"
    }
   ],
   "source": [
    "t1"
   ]
  },
  {
   "cell_type": "code",
   "execution_count": 58,
   "id": "8c9df87e-3e31-4be0-88d3-fc0dccf526bc",
   "metadata": {},
   "outputs": [
    {
     "data": {
      "text/plain": [
       "False"
      ]
     },
     "execution_count": 58,
     "metadata": {},
     "output_type": "execute_result"
    }
   ],
   "source": [
    "## to check the element are available inside a particular tuples\n",
    "\"mirza\" in t1"
   ]
  },
  {
   "cell_type": "code",
   "execution_count": 57,
   "id": "f2001d49-96c3-4464-8666-069ec8faed86",
   "metadata": {},
   "outputs": [
    {
     "data": {
      "text/plain": [
       "True"
      ]
     },
     "execution_count": 57,
     "metadata": {},
     "output_type": "execute_result"
    }
   ],
   "source": [
    "2 in t1"
   ]
  },
  {
   "cell_type": "code",
   "execution_count": null,
   "id": "70136657-b23f-4c12-8729-ed7a46d73534",
   "metadata": {},
   "outputs": [],
   "source": []
  }
 ],
 "metadata": {
  "kernelspec": {
   "display_name": "Python 3 (ipykernel)",
   "language": "python",
   "name": "python3"
  },
  "language_info": {
   "codemirror_mode": {
    "name": "ipython",
    "version": 3
   },
   "file_extension": ".py",
   "mimetype": "text/x-python",
   "name": "python",
   "nbconvert_exporter": "python",
   "pygments_lexer": "ipython3",
   "version": "3.10.8"
  }
 },
 "nbformat": 4,
 "nbformat_minor": 5
}
